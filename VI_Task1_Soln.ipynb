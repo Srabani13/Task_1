{
 "cells": [
  {
   "cell_type": "markdown",
   "id": "c365e4e5-663d-45c9-8ed4-6244f4cdd722",
   "metadata": {},
   "source": [
    "### TASK 1"
   ]
  },
  {
   "cell_type": "code",
   "execution_count": 6,
   "id": "b1f5032a-0604-438d-af83-2fcd64c1a277",
   "metadata": {},
   "outputs": [],
   "source": [
    "import pandas as pd\n",
    "import datetime \n"
   ]
  },
  {
   "cell_type": "code",
   "execution_count": 10,
   "id": "cba32158-bb39-47c4-909a-bb3a36ff047b",
   "metadata": {},
   "outputs": [],
   "source": [
    "df = pd.read_csv(\"C:/Users/ADMIN/OneDrive/Desktop/Task 1/attendance_data.csv\")  # Replace with your file path"
   ]
  },
  {
   "cell_type": "code",
   "execution_count": 11,
   "id": "7452523f-5283-4f94-961c-d9b6ca92dde8",
   "metadata": {},
   "outputs": [
    {
     "data": {
      "text/plain": [
       "(6336, 5)"
      ]
     },
     "execution_count": 11,
     "metadata": {},
     "output_type": "execute_result"
    }
   ],
   "source": [
    "df.shape"
   ]
  },
  {
   "cell_type": "code",
   "execution_count": 12,
   "id": "109176bd-bec2-4c6e-9d37-6744ba3fb3f9",
   "metadata": {},
   "outputs": [
    {
     "data": {
      "text/html": [
       "<div>\n",
       "<style scoped>\n",
       "    .dataframe tbody tr th:only-of-type {\n",
       "        vertical-align: middle;\n",
       "    }\n",
       "\n",
       "    .dataframe tbody tr th {\n",
       "        vertical-align: top;\n",
       "    }\n",
       "\n",
       "    .dataframe thead th {\n",
       "        text-align: right;\n",
       "    }\n",
       "</style>\n",
       "<table border=\"1\" class=\"dataframe\">\n",
       "  <thead>\n",
       "    <tr style=\"text-align: right;\">\n",
       "      <th></th>\n",
       "      <th>date</th>\n",
       "      <th>weekno</th>\n",
       "      <th>employee_id</th>\n",
       "      <th>name</th>\n",
       "      <th>status</th>\n",
       "    </tr>\n",
       "  </thead>\n",
       "  <tbody>\n",
       "    <tr>\n",
       "      <th>0</th>\n",
       "      <td>01-Apr-22</td>\n",
       "      <td>W 14</td>\n",
       "      <td>Atq -458@</td>\n",
       "      <td>JESSIE CARRILLO</td>\n",
       "      <td>Work From Office</td>\n",
       "    </tr>\n",
       "    <tr>\n",
       "      <th>1</th>\n",
       "      <td>01-Apr-22</td>\n",
       "      <td>W 14</td>\n",
       "      <td>Atq -400</td>\n",
       "      <td>chad macias</td>\n",
       "      <td>Work From Office</td>\n",
       "    </tr>\n",
       "    <tr>\n",
       "      <th>2</th>\n",
       "      <td>01-Apr-22</td>\n",
       "      <td>W 14</td>\n",
       "      <td>Atq -437</td>\n",
       "      <td>dallas weeks</td>\n",
       "      <td>Work From Office</td>\n",
       "    </tr>\n",
       "  </tbody>\n",
       "</table>\n",
       "</div>"
      ],
      "text/plain": [
       "        date weekno employee_id             name            status\n",
       "0  01-Apr-22   W 14   Atq -458@  JESSIE CARRILLO  Work From Office\n",
       "1  01-Apr-22   W 14    Atq -400      chad macias  Work From Office\n",
       "2  01-Apr-22   W 14    Atq -437     dallas weeks  Work From Office"
      ]
     },
     "execution_count": 12,
     "metadata": {},
     "output_type": "execute_result"
    }
   ],
   "source": [
    "df.head(3)"
   ]
  },
  {
   "cell_type": "markdown",
   "id": "fd62457d-74aa-4fcd-b295-c62b25e4347b",
   "metadata": {},
   "source": [
    "## Task 1: Data Cleaning"
   ]
  },
  {
   "cell_type": "markdown",
   "id": "bb3b6a8b-f896-4f49-858f-345b1555e424",
   "metadata": {},
   "source": [
    "#### 1. Check for duplicates in the dataset and remove them.\n",
    "\n",
    "#### 2. Standardize the date values to the format YYYY-MM-DD and extract the month name and day type from them."
   ]
  },
  {
   "cell_type": "code",
   "execution_count": 13,
   "id": "244fb65f-a427-40ef-9a94-b06fcfe98803",
   "metadata": {},
   "outputs": [],
   "source": [
    "df['date'] = pd.to_datetime(df['date'], format='%d-%b-%y')"
   ]
  },
  {
   "cell_type": "code",
   "execution_count": 14,
   "id": "4f2c0f8f-1d3f-4abb-b214-f9d19e30be9a",
   "metadata": {},
   "outputs": [],
   "source": [
    "df['month_name'] = df['date'].dt.strftime('%B')\n",
    "df['day_type'] = df['date'].dt.strftime('%A')\n"
   ]
  },
  {
   "cell_type": "code",
   "execution_count": 15,
   "id": "d36a16b3-cec7-45a0-8c31-ad9f520bd810",
   "metadata": {},
   "outputs": [],
   "source": [
    "df['day_category'] = df['date'].dt.strftime('%A').apply(lambda x: 'weekday' if x in ['Monday', 'Tuesday', 'Wednesday', 'Thursday', 'Friday'] else 'weekend')\n"
   ]
  },
  {
   "cell_type": "code",
   "execution_count": 16,
   "id": "3e9b2f78-5d8a-40a1-ac53-a7912cb947f7",
   "metadata": {},
   "outputs": [
    {
     "data": {
      "text/html": [
       "<div>\n",
       "<style scoped>\n",
       "    .dataframe tbody tr th:only-of-type {\n",
       "        vertical-align: middle;\n",
       "    }\n",
       "\n",
       "    .dataframe tbody tr th {\n",
       "        vertical-align: top;\n",
       "    }\n",
       "\n",
       "    .dataframe thead th {\n",
       "        text-align: right;\n",
       "    }\n",
       "</style>\n",
       "<table border=\"1\" class=\"dataframe\">\n",
       "  <thead>\n",
       "    <tr style=\"text-align: right;\">\n",
       "      <th></th>\n",
       "      <th>date</th>\n",
       "      <th>weekno</th>\n",
       "      <th>employee_id</th>\n",
       "      <th>name</th>\n",
       "      <th>status</th>\n",
       "      <th>month_name</th>\n",
       "      <th>day_type</th>\n",
       "      <th>day_category</th>\n",
       "    </tr>\n",
       "  </thead>\n",
       "  <tbody>\n",
       "    <tr>\n",
       "      <th>0</th>\n",
       "      <td>2022-04-01</td>\n",
       "      <td>W 14</td>\n",
       "      <td>Atq -458@</td>\n",
       "      <td>JESSIE CARRILLO</td>\n",
       "      <td>Work From Office</td>\n",
       "      <td>April</td>\n",
       "      <td>Friday</td>\n",
       "      <td>weekday</td>\n",
       "    </tr>\n",
       "    <tr>\n",
       "      <th>1</th>\n",
       "      <td>2022-04-01</td>\n",
       "      <td>W 14</td>\n",
       "      <td>Atq -400</td>\n",
       "      <td>chad macias</td>\n",
       "      <td>Work From Office</td>\n",
       "      <td>April</td>\n",
       "      <td>Friday</td>\n",
       "      <td>weekday</td>\n",
       "    </tr>\n",
       "    <tr>\n",
       "      <th>2</th>\n",
       "      <td>2022-04-01</td>\n",
       "      <td>W 14</td>\n",
       "      <td>Atq -437</td>\n",
       "      <td>dallas weeks</td>\n",
       "      <td>Work From Office</td>\n",
       "      <td>April</td>\n",
       "      <td>Friday</td>\n",
       "      <td>weekday</td>\n",
       "    </tr>\n",
       "    <tr>\n",
       "      <th>3</th>\n",
       "      <td>2022-04-01</td>\n",
       "      <td>W 14</td>\n",
       "      <td>Atq -369</td>\n",
       "      <td>GRETA HORTON</td>\n",
       "      <td>Work From Office</td>\n",
       "      <td>April</td>\n",
       "      <td>Friday</td>\n",
       "      <td>weekday</td>\n",
       "    </tr>\n",
       "    <tr>\n",
       "      <th>4</th>\n",
       "      <td>2022-04-01</td>\n",
       "      <td>W 14</td>\n",
       "      <td>Atq -374</td>\n",
       "      <td>KALEY FITZPATRICK</td>\n",
       "      <td>Work From Office</td>\n",
       "      <td>April</td>\n",
       "      <td>Friday</td>\n",
       "      <td>weekday</td>\n",
       "    </tr>\n",
       "  </tbody>\n",
       "</table>\n",
       "</div>"
      ],
      "text/plain": [
       "        date weekno employee_id               name            status  \\\n",
       "0 2022-04-01   W 14   Atq -458@    JESSIE CARRILLO  Work From Office   \n",
       "1 2022-04-01   W 14    Atq -400        chad macias  Work From Office   \n",
       "2 2022-04-01   W 14    Atq -437       dallas weeks  Work From Office   \n",
       "3 2022-04-01   W 14    Atq -369       GRETA HORTON  Work From Office   \n",
       "4 2022-04-01   W 14    Atq -374  KALEY FITZPATRICK  Work From Office   \n",
       "\n",
       "  month_name day_type day_category  \n",
       "0      April   Friday      weekday  \n",
       "1      April   Friday      weekday  \n",
       "2      April   Friday      weekday  \n",
       "3      April   Friday      weekday  \n",
       "4      April   Friday      weekday  "
      ]
     },
     "execution_count": 16,
     "metadata": {},
     "output_type": "execute_result"
    }
   ],
   "source": [
    "df.head()"
   ]
  },
  {
   "cell_type": "markdown",
   "id": "cc253873-82c2-459d-bfb8-eb05961d85de",
   "metadata": {},
   "source": [
    "#### 3.Remove any extra characters, such as special characters, from the employee ID values. Some IDs may contain a '@' character at the end, which can be cleaned and brought to a common format."
   ]
  },
  {
   "cell_type": "code",
   "execution_count": 17,
   "id": "7cd04b27-6855-4609-ac9b-aa39f921f2da",
   "metadata": {},
   "outputs": [],
   "source": [
    "df['employee_id'] = df['employee_id'].str.replace('@', '')"
   ]
  },
  {
   "cell_type": "code",
   "execution_count": 18,
   "id": "bb7e3c3e-ef78-48b5-9585-0b1fa0f0cc02",
   "metadata": {},
   "outputs": [
    {
     "data": {
      "text/html": [
       "<div>\n",
       "<style scoped>\n",
       "    .dataframe tbody tr th:only-of-type {\n",
       "        vertical-align: middle;\n",
       "    }\n",
       "\n",
       "    .dataframe tbody tr th {\n",
       "        vertical-align: top;\n",
       "    }\n",
       "\n",
       "    .dataframe thead th {\n",
       "        text-align: right;\n",
       "    }\n",
       "</style>\n",
       "<table border=\"1\" class=\"dataframe\">\n",
       "  <thead>\n",
       "    <tr style=\"text-align: right;\">\n",
       "      <th></th>\n",
       "      <th>date</th>\n",
       "      <th>weekno</th>\n",
       "      <th>employee_id</th>\n",
       "      <th>name</th>\n",
       "      <th>status</th>\n",
       "      <th>month_name</th>\n",
       "      <th>day_type</th>\n",
       "      <th>day_category</th>\n",
       "    </tr>\n",
       "  </thead>\n",
       "  <tbody>\n",
       "    <tr>\n",
       "      <th>0</th>\n",
       "      <td>2022-04-01</td>\n",
       "      <td>W 14</td>\n",
       "      <td>Atq -458</td>\n",
       "      <td>JESSIE CARRILLO</td>\n",
       "      <td>Work From Office</td>\n",
       "      <td>April</td>\n",
       "      <td>Friday</td>\n",
       "      <td>weekday</td>\n",
       "    </tr>\n",
       "    <tr>\n",
       "      <th>1</th>\n",
       "      <td>2022-04-01</td>\n",
       "      <td>W 14</td>\n",
       "      <td>Atq -400</td>\n",
       "      <td>chad macias</td>\n",
       "      <td>Work From Office</td>\n",
       "      <td>April</td>\n",
       "      <td>Friday</td>\n",
       "      <td>weekday</td>\n",
       "    </tr>\n",
       "  </tbody>\n",
       "</table>\n",
       "</div>"
      ],
      "text/plain": [
       "        date weekno employee_id             name            status month_name  \\\n",
       "0 2022-04-01   W 14    Atq -458  JESSIE CARRILLO  Work From Office      April   \n",
       "1 2022-04-01   W 14    Atq -400      chad macias  Work From Office      April   \n",
       "\n",
       "  day_type day_category  \n",
       "0   Friday      weekday  \n",
       "1   Friday      weekday  "
      ]
     },
     "execution_count": 18,
     "metadata": {},
     "output_type": "execute_result"
    }
   ],
   "source": [
    "df.head(2)"
   ]
  },
  {
   "cell_type": "markdown",
   "id": "906832c6-9147-46ab-8848-b7482cb7995a",
   "metadata": {},
   "source": [
    "#### 4.Standardize the capitalization of names. Convert all names to title case, which means capitalizing the first letter of each word."
   ]
  },
  {
   "cell_type": "code",
   "execution_count": 19,
   "id": "76d49fec-b6ce-4305-9e47-32aaa9978be2",
   "metadata": {},
   "outputs": [
    {
     "data": {
      "text/html": [
       "<div>\n",
       "<style scoped>\n",
       "    .dataframe tbody tr th:only-of-type {\n",
       "        vertical-align: middle;\n",
       "    }\n",
       "\n",
       "    .dataframe tbody tr th {\n",
       "        vertical-align: top;\n",
       "    }\n",
       "\n",
       "    .dataframe thead th {\n",
       "        text-align: right;\n",
       "    }\n",
       "</style>\n",
       "<table border=\"1\" class=\"dataframe\">\n",
       "  <thead>\n",
       "    <tr style=\"text-align: right;\">\n",
       "      <th></th>\n",
       "      <th>date</th>\n",
       "      <th>weekno</th>\n",
       "      <th>employee_id</th>\n",
       "      <th>name</th>\n",
       "      <th>status</th>\n",
       "      <th>month_name</th>\n",
       "      <th>day_type</th>\n",
       "      <th>day_category</th>\n",
       "    </tr>\n",
       "  </thead>\n",
       "  <tbody>\n",
       "    <tr>\n",
       "      <th>0</th>\n",
       "      <td>2022-04-01</td>\n",
       "      <td>W 14</td>\n",
       "      <td>Atq -458</td>\n",
       "      <td>Jessie Carrillo</td>\n",
       "      <td>Work From Office</td>\n",
       "      <td>April</td>\n",
       "      <td>Friday</td>\n",
       "      <td>weekday</td>\n",
       "    </tr>\n",
       "    <tr>\n",
       "      <th>1</th>\n",
       "      <td>2022-04-01</td>\n",
       "      <td>W 14</td>\n",
       "      <td>Atq -400</td>\n",
       "      <td>Chad Macias</td>\n",
       "      <td>Work From Office</td>\n",
       "      <td>April</td>\n",
       "      <td>Friday</td>\n",
       "      <td>weekday</td>\n",
       "    </tr>\n",
       "  </tbody>\n",
       "</table>\n",
       "</div>"
      ],
      "text/plain": [
       "        date weekno employee_id             name            status month_name  \\\n",
       "0 2022-04-01   W 14    Atq -458  Jessie Carrillo  Work From Office      April   \n",
       "1 2022-04-01   W 14    Atq -400      Chad Macias  Work From Office      April   \n",
       "\n",
       "  day_type day_category  \n",
       "0   Friday      weekday  \n",
       "1   Friday      weekday  "
      ]
     },
     "execution_count": 19,
     "metadata": {},
     "output_type": "execute_result"
    }
   ],
   "source": [
    "df['name'] = df['name'].str.title()\n",
    "df.head(2)"
   ]
  },
  {
   "cell_type": "code",
   "execution_count": 20,
   "id": "2c24f526-b429-4b1e-a0cf-64eda62d044a",
   "metadata": {},
   "outputs": [
    {
     "name": "stdout",
     "output_type": "stream",
     "text": [
      "Index(['date', 'weekno', 'employee_id', 'name', 'status', 'month_name',\n",
      "       'day_type', 'day_category'],\n",
      "      dtype='object')\n"
     ]
    }
   ],
   "source": [
    "print(df.columns)"
   ]
  },
  {
   "cell_type": "markdown",
   "id": "d0c99ed7-4cf5-4ac6-bf4e-a7156e5f97b1",
   "metadata": {},
   "source": [
    "#### 5.Map the corresponding values in the status column with the given abbreviations:\n",
    "#### Work From Office --> WFO\n",
    "#### Work From Home --> WFH\n",
    "#### Birthday Leave --> BL\n",
    "#### Menstrual Leave --> ML\n",
    "#### Paid Leave --> PL\n",
    "#### Sick Leave --> SL\n",
    "#### Weekly Off --> WO"
   ]
  },
  {
   "cell_type": "code",
   "execution_count": 21,
   "id": "11c28a49-23eb-443a-8536-5927ed301ec3",
   "metadata": {},
   "outputs": [],
   "source": [
    "# Create a dictionary to map status values to abbreviations\n",
    "abbreviations_dict = {\n",
    "    'Work From Office': 'WFO',\n",
    "    'Work From Home': 'WFH',\n",
    "    'Birthday Leave': 'BL',\n",
    "    'Menstrual Leave': 'ML',\n",
    "    'Paid Leave': 'PL',\n",
    "    'Sick Leave': 'SL',\n",
    "    'Weekly Off': 'WO'\n",
    "}\n",
    "\n",
    "# Apply the mapping to create the new column\n",
    "df['abbreviations'] = df['status'].map(abbreviations_dict)\n"
   ]
  },
  {
   "cell_type": "code",
   "execution_count": 44,
   "id": "db40144f-8797-45e9-9aba-9a7490b6d0b4",
   "metadata": {},
   "outputs": [
    {
     "data": {
      "text/html": [
       "<div>\n",
       "<style scoped>\n",
       "    .dataframe tbody tr th:only-of-type {\n",
       "        vertical-align: middle;\n",
       "    }\n",
       "\n",
       "    .dataframe tbody tr th {\n",
       "        vertical-align: top;\n",
       "    }\n",
       "\n",
       "    .dataframe thead th {\n",
       "        text-align: right;\n",
       "    }\n",
       "</style>\n",
       "<table border=\"1\" class=\"dataframe\">\n",
       "  <thead>\n",
       "    <tr style=\"text-align: right;\">\n",
       "      <th></th>\n",
       "      <th>date</th>\n",
       "      <th>weekno</th>\n",
       "      <th>month_name</th>\n",
       "      <th>day_type</th>\n",
       "      <th>day_category</th>\n",
       "      <th>employee_id</th>\n",
       "      <th>name</th>\n",
       "      <th>status</th>\n",
       "      <th>abbreviations</th>\n",
       "    </tr>\n",
       "  </thead>\n",
       "  <tbody>\n",
       "    <tr>\n",
       "      <th>0</th>\n",
       "      <td>2022-04-01</td>\n",
       "      <td>W 14</td>\n",
       "      <td>April</td>\n",
       "      <td>Friday</td>\n",
       "      <td>weekday</td>\n",
       "      <td>Atq -458</td>\n",
       "      <td>Jessie Carrillo</td>\n",
       "      <td>Work From Office</td>\n",
       "      <td>WFO</td>\n",
       "    </tr>\n",
       "    <tr>\n",
       "      <th>1</th>\n",
       "      <td>2022-04-01</td>\n",
       "      <td>W 14</td>\n",
       "      <td>April</td>\n",
       "      <td>Friday</td>\n",
       "      <td>weekday</td>\n",
       "      <td>Atq -400</td>\n",
       "      <td>Chad Macias</td>\n",
       "      <td>Work From Office</td>\n",
       "      <td>WFO</td>\n",
       "    </tr>\n",
       "    <tr>\n",
       "      <th>2</th>\n",
       "      <td>2022-04-01</td>\n",
       "      <td>W 14</td>\n",
       "      <td>April</td>\n",
       "      <td>Friday</td>\n",
       "      <td>weekday</td>\n",
       "      <td>Atq -437</td>\n",
       "      <td>Dallas Weeks</td>\n",
       "      <td>Work From Office</td>\n",
       "      <td>WFO</td>\n",
       "    </tr>\n",
       "  </tbody>\n",
       "</table>\n",
       "</div>"
      ],
      "text/plain": [
       "        date weekno month_name day_type day_category employee_id  \\\n",
       "0 2022-04-01   W 14      April   Friday      weekday    Atq -458   \n",
       "1 2022-04-01   W 14      April   Friday      weekday    Atq -400   \n",
       "2 2022-04-01   W 14      April   Friday      weekday    Atq -437   \n",
       "\n",
       "              name            status abbreviations  \n",
       "0  Jessie Carrillo  Work From Office           WFO  \n",
       "1      Chad Macias  Work From Office           WFO  \n",
       "2     Dallas Weeks  Work From Office           WFO  "
      ]
     },
     "execution_count": 44,
     "metadata": {},
     "output_type": "execute_result"
    }
   ],
   "source": [
    "df.head(3)"
   ]
  },
  {
   "cell_type": "code",
   "execution_count": 45,
   "id": "bf3a4144-4348-40d1-a103-a0d19edb31ea",
   "metadata": {},
   "outputs": [
    {
     "data": {
      "text/html": [
       "<div>\n",
       "<style scoped>\n",
       "    .dataframe tbody tr th:only-of-type {\n",
       "        vertical-align: middle;\n",
       "    }\n",
       "\n",
       "    .dataframe tbody tr th {\n",
       "        vertical-align: top;\n",
       "    }\n",
       "\n",
       "    .dataframe thead th {\n",
       "        text-align: right;\n",
       "    }\n",
       "</style>\n",
       "<table border=\"1\" class=\"dataframe\">\n",
       "  <thead>\n",
       "    <tr style=\"text-align: right;\">\n",
       "      <th></th>\n",
       "      <th>date</th>\n",
       "      <th>weekno</th>\n",
       "      <th>month_name</th>\n",
       "      <th>day_type</th>\n",
       "      <th>day_category</th>\n",
       "      <th>employee_id</th>\n",
       "      <th>name</th>\n",
       "      <th>status</th>\n",
       "      <th>abbreviations</th>\n",
       "    </tr>\n",
       "  </thead>\n",
       "  <tbody>\n",
       "    <tr>\n",
       "      <th>0</th>\n",
       "      <td>2022-04-01</td>\n",
       "      <td>W 14</td>\n",
       "      <td>April</td>\n",
       "      <td>Friday</td>\n",
       "      <td>weekday</td>\n",
       "      <td>Atq -458</td>\n",
       "      <td>Jessie Carrillo</td>\n",
       "      <td>Work From Office</td>\n",
       "      <td>WFO</td>\n",
       "    </tr>\n",
       "    <tr>\n",
       "      <th>1</th>\n",
       "      <td>2022-04-01</td>\n",
       "      <td>W 14</td>\n",
       "      <td>April</td>\n",
       "      <td>Friday</td>\n",
       "      <td>weekday</td>\n",
       "      <td>Atq -400</td>\n",
       "      <td>Chad Macias</td>\n",
       "      <td>Work From Office</td>\n",
       "      <td>WFO</td>\n",
       "    </tr>\n",
       "    <tr>\n",
       "      <th>2</th>\n",
       "      <td>2022-04-01</td>\n",
       "      <td>W 14</td>\n",
       "      <td>April</td>\n",
       "      <td>Friday</td>\n",
       "      <td>weekday</td>\n",
       "      <td>Atq -437</td>\n",
       "      <td>Dallas Weeks</td>\n",
       "      <td>Work From Office</td>\n",
       "      <td>WFO</td>\n",
       "    </tr>\n",
       "  </tbody>\n",
       "</table>\n",
       "</div>"
      ],
      "text/plain": [
       "        date weekno month_name day_type day_category employee_id  \\\n",
       "0 2022-04-01   W 14      April   Friday      weekday    Atq -458   \n",
       "1 2022-04-01   W 14      April   Friday      weekday    Atq -400   \n",
       "2 2022-04-01   W 14      April   Friday      weekday    Atq -437   \n",
       "\n",
       "              name            status abbreviations  \n",
       "0  Jessie Carrillo  Work From Office           WFO  \n",
       "1      Chad Macias  Work From Office           WFO  \n",
       "2     Dallas Weeks  Work From Office           WFO  "
      ]
     },
     "execution_count": 45,
     "metadata": {},
     "output_type": "execute_result"
    }
   ],
   "source": [
    "desired_order = ['date', 'weekno', 'month_name', 'day_type', 'day_category', 'employee_id', 'name', 'status', 'abbreviations']\n",
    "df = df[desired_order]\n",
    "df.head(3)"
   ]
  },
  {
   "cell_type": "markdown",
   "id": "d4788b8a-ddda-4619-b7ad-77f485e53906",
   "metadata": {},
   "source": [
    "## Task 2: Ad Hoc aka Analysis\n",
    "\n"
   ]
  },
  {
   "cell_type": "markdown",
   "id": "83297851-bc0a-49b0-bc97-3f2727d84eaf",
   "metadata": {},
   "source": [
    "#### 1.What is the total count of distinct employee names within the dataset?"
   ]
  },
  {
   "cell_type": "code",
   "execution_count": 46,
   "id": "a1374107-77f8-4ae7-ae05-2ef9fa2d3e42",
   "metadata": {},
   "outputs": [
    {
     "data": {
      "text/plain": [
       "99"
      ]
     },
     "execution_count": 46,
     "metadata": {},
     "output_type": "execute_result"
    }
   ],
   "source": [
    "total_distinct_names = df['name'].nunique()\n",
    "total_distinct_names\n"
   ]
  },
  {
   "cell_type": "code",
   "execution_count": 47,
   "id": "94fa75e4-0e34-4fe2-80c1-6ed8ec644eb0",
   "metadata": {},
   "outputs": [
    {
     "data": {
      "text/plain": [
       "7.39"
      ]
     },
     "execution_count": 47,
     "metadata": {},
     "output_type": "execute_result"
    }
   ],
   "source": [
    "df_may = df[df['month_name'] == 'May']\n",
    "\n",
    "# Count occurrences of WFH status\n",
    "wfh_count = df_may[df_may['status'] == 'Work From Home'].shape[0]\n",
    "\n",
    "# Calculate total records\n",
    "total_records = df_may.shape[0]\n",
    "\n",
    "# Calculate WFH percentage\n",
    "wfh_percentage = round(((wfh_count / total_records) * 100),2)\n",
    "wfh_percentage"
   ]
  },
  {
   "cell_type": "code",
   "execution_count": 48,
   "id": "3aa8b65e-7ceb-4860-82a1-93bb2e302826",
   "metadata": {},
   "outputs": [
    {
     "data": {
      "text/plain": [
       "7.39"
      ]
     },
     "execution_count": 48,
     "metadata": {},
     "output_type": "execute_result"
    }
   ],
   "source": [
    "\n",
    "df_may = df[df['month_name'] == 'May']\n",
    "\n",
    "# Count occurrences of Work From Home (WFH) status using 'abbreviations' column\n",
    "wfh_count = df_may[df_may['abbreviations'] == 'WFH'].shape[0]\n",
    "\n",
    "# Calculate total records (total present days in May)\n",
    "total_records = df_may.shape[0]\n",
    "\n",
    "# Calculate WFH percentage\n",
    "wfh_percentage = round(((wfh_count / total_records) * 100), 2) if total_records > 0 else 0\n",
    "\n",
    "wfh_percentage  # This should give you the expected WFH percentage for May\n"
   ]
  },
  {
   "cell_type": "code",
   "execution_count": 49,
   "id": "7a38fce5-65c5-49a8-b76d-88c49f4bbf35",
   "metadata": {},
   "outputs": [],
   "source": [
    "df_june = df[df['date'].dt.month == 6]"
   ]
  },
  {
   "cell_type": "code",
   "execution_count": 52,
   "id": "396e6c18-6152-4012-95b7-926094831e5b",
   "metadata": {},
   "outputs": [
    {
     "name": "stdout",
     "output_type": "stream",
     "text": [
      "Index(['date', 'weekno', 'employee_id', 'name', 'status'], dtype='object')\n"
     ]
    }
   ],
   "source": [
    "# Check the columns in your DataFrame\n",
    "print(attendance_data.columns)\n"
   ]
  },
  {
   "cell_type": "code",
   "execution_count": null,
   "id": "49e228c4-34ad-40d5-90da-8d3bde04fd58",
   "metadata": {},
   "outputs": [],
   "source": []
  }
 ],
 "metadata": {
  "kernelspec": {
   "display_name": "Python 3 (ipykernel)",
   "language": "python",
   "name": "python3"
  },
  "language_info": {
   "codemirror_mode": {
    "name": "ipython",
    "version": 3
   },
   "file_extension": ".py",
   "mimetype": "text/x-python",
   "name": "python",
   "nbconvert_exporter": "python",
   "pygments_lexer": "ipython3",
   "version": "3.8.10"
  }
 },
 "nbformat": 4,
 "nbformat_minor": 5
}
