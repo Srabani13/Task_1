{
 "cells": [
  {
   "cell_type": "code",
   "execution_count": 3,
   "id": "b1f5032a-0604-438d-af83-2fcd64c1a277",
   "metadata": {},
   "outputs": [],
   "source": [
    "import pandas as pd\n",
    "import datetime \n"
   ]
  },
  {
   "cell_type": "code",
   "execution_count": 60,
   "id": "cba32158-bb39-47c4-909a-bb3a36ff047b",
   "metadata": {},
   "outputs": [],
   "source": [
    "df = pd.read_csv(\"attendance_data.csv\")  # Replace with your file path"
   ]
  },
  {
   "cell_type": "code",
   "execution_count": 61,
   "id": "7452523f-5283-4f94-961c-d9b6ca92dde8",
   "metadata": {},
   "outputs": [
    {
     "data": {
      "text/plain": [
       "(6336, 5)"
      ]
     },
     "execution_count": 61,
     "metadata": {},
     "output_type": "execute_result"
    }
   ],
   "source": [
    "df.shape"
   ]
  },
  {
   "cell_type": "code",
   "execution_count": 62,
   "id": "109176bd-bec2-4c6e-9d37-6744ba3fb3f9",
   "metadata": {},
   "outputs": [
    {
     "data": {
      "text/html": [
       "<div>\n",
       "<style scoped>\n",
       "    .dataframe tbody tr th:only-of-type {\n",
       "        vertical-align: middle;\n",
       "    }\n",
       "\n",
       "    .dataframe tbody tr th {\n",
       "        vertical-align: top;\n",
       "    }\n",
       "\n",
       "    .dataframe thead th {\n",
       "        text-align: right;\n",
       "    }\n",
       "</style>\n",
       "<table border=\"1\" class=\"dataframe\">\n",
       "  <thead>\n",
       "    <tr style=\"text-align: right;\">\n",
       "      <th></th>\n",
       "      <th>date</th>\n",
       "      <th>weekno</th>\n",
       "      <th>employee_id</th>\n",
       "      <th>name</th>\n",
       "      <th>status</th>\n",
       "    </tr>\n",
       "  </thead>\n",
       "  <tbody>\n",
       "    <tr>\n",
       "      <th>0</th>\n",
       "      <td>01-Apr-22</td>\n",
       "      <td>W 14</td>\n",
       "      <td>Atq -458@</td>\n",
       "      <td>JESSIE CARRILLO</td>\n",
       "      <td>Work From Office</td>\n",
       "    </tr>\n",
       "    <tr>\n",
       "      <th>1</th>\n",
       "      <td>01-Apr-22</td>\n",
       "      <td>W 14</td>\n",
       "      <td>Atq -400</td>\n",
       "      <td>chad macias</td>\n",
       "      <td>Work From Office</td>\n",
       "    </tr>\n",
       "    <tr>\n",
       "      <th>2</th>\n",
       "      <td>01-Apr-22</td>\n",
       "      <td>W 14</td>\n",
       "      <td>Atq -437</td>\n",
       "      <td>dallas weeks</td>\n",
       "      <td>Work From Office</td>\n",
       "    </tr>\n",
       "  </tbody>\n",
       "</table>\n",
       "</div>"
      ],
      "text/plain": [
       "        date weekno employee_id             name            status\n",
       "0  01-Apr-22   W 14   Atq -458@  JESSIE CARRILLO  Work From Office\n",
       "1  01-Apr-22   W 14    Atq -400      chad macias  Work From Office\n",
       "2  01-Apr-22   W 14    Atq -437     dallas weeks  Work From Office"
      ]
     },
     "execution_count": 62,
     "metadata": {},
     "output_type": "execute_result"
    }
   ],
   "source": [
    "df.head(3)"
   ]
  },
  {
   "cell_type": "code",
   "execution_count": 63,
   "id": "244fb65f-a427-40ef-9a94-b06fcfe98803",
   "metadata": {},
   "outputs": [],
   "source": [
    "df['date'] = pd.to_datetime(df['date'], format='%d-%b-%y')"
   ]
  },
  {
   "cell_type": "code",
   "execution_count": 64,
   "id": "4f2c0f8f-1d3f-4abb-b214-f9d19e30be9a",
   "metadata": {},
   "outputs": [],
   "source": [
    "df['month_name'] = df['date'].dt.strftime('%B')\n",
    "df['day_type'] = df['date'].dt.strftime('%A')\n"
   ]
  },
  {
   "cell_type": "code",
   "execution_count": 65,
   "id": "d36a16b3-cec7-45a0-8c31-ad9f520bd810",
   "metadata": {},
   "outputs": [],
   "source": [
    "df['day_category'] = df['date'].dt.strftime('%A').apply(lambda x: 'weekday' if x in ['Monday', 'Tuesday', 'Wednesday', 'Thursday', 'Friday'] else 'weekend')\n"
   ]
  },
  {
   "cell_type": "code",
   "execution_count": 66,
   "id": "3e9b2f78-5d8a-40a1-ac53-a7912cb947f7",
   "metadata": {},
   "outputs": [
    {
     "data": {
      "text/html": [
       "<div>\n",
       "<style scoped>\n",
       "    .dataframe tbody tr th:only-of-type {\n",
       "        vertical-align: middle;\n",
       "    }\n",
       "\n",
       "    .dataframe tbody tr th {\n",
       "        vertical-align: top;\n",
       "    }\n",
       "\n",
       "    .dataframe thead th {\n",
       "        text-align: right;\n",
       "    }\n",
       "</style>\n",
       "<table border=\"1\" class=\"dataframe\">\n",
       "  <thead>\n",
       "    <tr style=\"text-align: right;\">\n",
       "      <th></th>\n",
       "      <th>date</th>\n",
       "      <th>weekno</th>\n",
       "      <th>employee_id</th>\n",
       "      <th>name</th>\n",
       "      <th>status</th>\n",
       "      <th>month_name</th>\n",
       "      <th>day_type</th>\n",
       "      <th>day_category</th>\n",
       "    </tr>\n",
       "  </thead>\n",
       "  <tbody>\n",
       "    <tr>\n",
       "      <th>0</th>\n",
       "      <td>2022-04-01</td>\n",
       "      <td>W 14</td>\n",
       "      <td>Atq -458@</td>\n",
       "      <td>JESSIE CARRILLO</td>\n",
       "      <td>Work From Office</td>\n",
       "      <td>April</td>\n",
       "      <td>Friday</td>\n",
       "      <td>weekday</td>\n",
       "    </tr>\n",
       "    <tr>\n",
       "      <th>1</th>\n",
       "      <td>2022-04-01</td>\n",
       "      <td>W 14</td>\n",
       "      <td>Atq -400</td>\n",
       "      <td>chad macias</td>\n",
       "      <td>Work From Office</td>\n",
       "      <td>April</td>\n",
       "      <td>Friday</td>\n",
       "      <td>weekday</td>\n",
       "    </tr>\n",
       "    <tr>\n",
       "      <th>2</th>\n",
       "      <td>2022-04-01</td>\n",
       "      <td>W 14</td>\n",
       "      <td>Atq -437</td>\n",
       "      <td>dallas weeks</td>\n",
       "      <td>Work From Office</td>\n",
       "      <td>April</td>\n",
       "      <td>Friday</td>\n",
       "      <td>weekday</td>\n",
       "    </tr>\n",
       "    <tr>\n",
       "      <th>3</th>\n",
       "      <td>2022-04-01</td>\n",
       "      <td>W 14</td>\n",
       "      <td>Atq -369</td>\n",
       "      <td>GRETA HORTON</td>\n",
       "      <td>Work From Office</td>\n",
       "      <td>April</td>\n",
       "      <td>Friday</td>\n",
       "      <td>weekday</td>\n",
       "    </tr>\n",
       "    <tr>\n",
       "      <th>4</th>\n",
       "      <td>2022-04-01</td>\n",
       "      <td>W 14</td>\n",
       "      <td>Atq -374</td>\n",
       "      <td>KALEY FITZPATRICK</td>\n",
       "      <td>Work From Office</td>\n",
       "      <td>April</td>\n",
       "      <td>Friday</td>\n",
       "      <td>weekday</td>\n",
       "    </tr>\n",
       "  </tbody>\n",
       "</table>\n",
       "</div>"
      ],
      "text/plain": [
       "        date weekno employee_id               name            status  \\\n",
       "0 2022-04-01   W 14   Atq -458@    JESSIE CARRILLO  Work From Office   \n",
       "1 2022-04-01   W 14    Atq -400        chad macias  Work From Office   \n",
       "2 2022-04-01   W 14    Atq -437       dallas weeks  Work From Office   \n",
       "3 2022-04-01   W 14    Atq -369       GRETA HORTON  Work From Office   \n",
       "4 2022-04-01   W 14    Atq -374  KALEY FITZPATRICK  Work From Office   \n",
       "\n",
       "  month_name day_type day_category  \n",
       "0      April   Friday      weekday  \n",
       "1      April   Friday      weekday  \n",
       "2      April   Friday      weekday  \n",
       "3      April   Friday      weekday  \n",
       "4      April   Friday      weekday  "
      ]
     },
     "execution_count": 66,
     "metadata": {},
     "output_type": "execute_result"
    }
   ],
   "source": [
    "df.head()"
   ]
  },
  {
   "cell_type": "code",
   "execution_count": 67,
   "id": "7cd04b27-6855-4609-ac9b-aa39f921f2da",
   "metadata": {},
   "outputs": [],
   "source": [
    "df['employee_id'] = df['employee_id'].str.replace('@', '')"
   ]
  },
  {
   "cell_type": "code",
   "execution_count": 68,
   "id": "bb7e3c3e-ef78-48b5-9585-0b1fa0f0cc02",
   "metadata": {},
   "outputs": [
    {
     "data": {
      "text/html": [
       "<div>\n",
       "<style scoped>\n",
       "    .dataframe tbody tr th:only-of-type {\n",
       "        vertical-align: middle;\n",
       "    }\n",
       "\n",
       "    .dataframe tbody tr th {\n",
       "        vertical-align: top;\n",
       "    }\n",
       "\n",
       "    .dataframe thead th {\n",
       "        text-align: right;\n",
       "    }\n",
       "</style>\n",
       "<table border=\"1\" class=\"dataframe\">\n",
       "  <thead>\n",
       "    <tr style=\"text-align: right;\">\n",
       "      <th></th>\n",
       "      <th>date</th>\n",
       "      <th>weekno</th>\n",
       "      <th>employee_id</th>\n",
       "      <th>name</th>\n",
       "      <th>status</th>\n",
       "      <th>month_name</th>\n",
       "      <th>day_type</th>\n",
       "      <th>day_category</th>\n",
       "    </tr>\n",
       "  </thead>\n",
       "  <tbody>\n",
       "    <tr>\n",
       "      <th>0</th>\n",
       "      <td>2022-04-01</td>\n",
       "      <td>W 14</td>\n",
       "      <td>Atq -458</td>\n",
       "      <td>JESSIE CARRILLO</td>\n",
       "      <td>Work From Office</td>\n",
       "      <td>April</td>\n",
       "      <td>Friday</td>\n",
       "      <td>weekday</td>\n",
       "    </tr>\n",
       "    <tr>\n",
       "      <th>1</th>\n",
       "      <td>2022-04-01</td>\n",
       "      <td>W 14</td>\n",
       "      <td>Atq -400</td>\n",
       "      <td>chad macias</td>\n",
       "      <td>Work From Office</td>\n",
       "      <td>April</td>\n",
       "      <td>Friday</td>\n",
       "      <td>weekday</td>\n",
       "    </tr>\n",
       "  </tbody>\n",
       "</table>\n",
       "</div>"
      ],
      "text/plain": [
       "        date weekno employee_id             name            status month_name  \\\n",
       "0 2022-04-01   W 14    Atq -458  JESSIE CARRILLO  Work From Office      April   \n",
       "1 2022-04-01   W 14    Atq -400      chad macias  Work From Office      April   \n",
       "\n",
       "  day_type day_category  \n",
       "0   Friday      weekday  \n",
       "1   Friday      weekday  "
      ]
     },
     "execution_count": 68,
     "metadata": {},
     "output_type": "execute_result"
    }
   ],
   "source": [
    "df.head(2)"
   ]
  },
  {
   "cell_type": "code",
   "execution_count": 69,
   "id": "76d49fec-b6ce-4305-9e47-32aaa9978be2",
   "metadata": {},
   "outputs": [
    {
     "data": {
      "text/html": [
       "<div>\n",
       "<style scoped>\n",
       "    .dataframe tbody tr th:only-of-type {\n",
       "        vertical-align: middle;\n",
       "    }\n",
       "\n",
       "    .dataframe tbody tr th {\n",
       "        vertical-align: top;\n",
       "    }\n",
       "\n",
       "    .dataframe thead th {\n",
       "        text-align: right;\n",
       "    }\n",
       "</style>\n",
       "<table border=\"1\" class=\"dataframe\">\n",
       "  <thead>\n",
       "    <tr style=\"text-align: right;\">\n",
       "      <th></th>\n",
       "      <th>date</th>\n",
       "      <th>weekno</th>\n",
       "      <th>employee_id</th>\n",
       "      <th>name</th>\n",
       "      <th>status</th>\n",
       "      <th>month_name</th>\n",
       "      <th>day_type</th>\n",
       "      <th>day_category</th>\n",
       "    </tr>\n",
       "  </thead>\n",
       "  <tbody>\n",
       "    <tr>\n",
       "      <th>0</th>\n",
       "      <td>2022-04-01</td>\n",
       "      <td>W 14</td>\n",
       "      <td>Atq -458</td>\n",
       "      <td>Jessie Carrillo</td>\n",
       "      <td>Work From Office</td>\n",
       "      <td>April</td>\n",
       "      <td>Friday</td>\n",
       "      <td>weekday</td>\n",
       "    </tr>\n",
       "    <tr>\n",
       "      <th>1</th>\n",
       "      <td>2022-04-01</td>\n",
       "      <td>W 14</td>\n",
       "      <td>Atq -400</td>\n",
       "      <td>Chad Macias</td>\n",
       "      <td>Work From Office</td>\n",
       "      <td>April</td>\n",
       "      <td>Friday</td>\n",
       "      <td>weekday</td>\n",
       "    </tr>\n",
       "  </tbody>\n",
       "</table>\n",
       "</div>"
      ],
      "text/plain": [
       "        date weekno employee_id             name            status month_name  \\\n",
       "0 2022-04-01   W 14    Atq -458  Jessie Carrillo  Work From Office      April   \n",
       "1 2022-04-01   W 14    Atq -400      Chad Macias  Work From Office      April   \n",
       "\n",
       "  day_type day_category  \n",
       "0   Friday      weekday  \n",
       "1   Friday      weekday  "
      ]
     },
     "execution_count": 69,
     "metadata": {},
     "output_type": "execute_result"
    }
   ],
   "source": [
    "df['name'] = df['name'].str.title()\n",
    "df.head(2)"
   ]
  },
  {
   "cell_type": "code",
   "execution_count": 70,
   "id": "2c24f526-b429-4b1e-a0cf-64eda62d044a",
   "metadata": {},
   "outputs": [
    {
     "name": "stdout",
     "output_type": "stream",
     "text": [
      "Index(['date', 'weekno', 'employee_id', 'name', 'status', 'month_name',\n",
      "       'day_type', 'day_category'],\n",
      "      dtype='object')\n"
     ]
    }
   ],
   "source": [
    "print(df.columns)"
   ]
  },
  {
   "cell_type": "code",
   "execution_count": 71,
   "id": "11c28a49-23eb-443a-8536-5927ed301ec3",
   "metadata": {},
   "outputs": [],
   "source": [
    "# Create a dictionary to map status values to abbreviations\n",
    "abbreviations_dict = {\n",
    "    'Work From Office': 'WFO',\n",
    "    'Work From Home': 'WFH',\n",
    "    'Birthday Leave': 'BL',\n",
    "    'Menstrual Leave': 'ML',\n",
    "    'Paid Leave': 'PL',\n",
    "    'Sick Leave': 'SL',\n",
    "    'Weekly Off': 'WO'\n",
    "}\n",
    "\n",
    "# Apply the mapping to create the new column\n",
    "df['abbreviations'] = df['status'].map(abbreviations_dict)\n"
   ]
  },
  {
   "cell_type": "code",
   "execution_count": 72,
   "id": "db40144f-8797-45e9-9aba-9a7490b6d0b4",
   "metadata": {},
   "outputs": [
    {
     "data": {
      "text/html": [
       "<div>\n",
       "<style scoped>\n",
       "    .dataframe tbody tr th:only-of-type {\n",
       "        vertical-align: middle;\n",
       "    }\n",
       "\n",
       "    .dataframe tbody tr th {\n",
       "        vertical-align: top;\n",
       "    }\n",
       "\n",
       "    .dataframe thead th {\n",
       "        text-align: right;\n",
       "    }\n",
       "</style>\n",
       "<table border=\"1\" class=\"dataframe\">\n",
       "  <thead>\n",
       "    <tr style=\"text-align: right;\">\n",
       "      <th></th>\n",
       "      <th>date</th>\n",
       "      <th>weekno</th>\n",
       "      <th>employee_id</th>\n",
       "      <th>name</th>\n",
       "      <th>status</th>\n",
       "      <th>month_name</th>\n",
       "      <th>day_type</th>\n",
       "      <th>day_category</th>\n",
       "      <th>abbreviations</th>\n",
       "    </tr>\n",
       "  </thead>\n",
       "  <tbody>\n",
       "    <tr>\n",
       "      <th>0</th>\n",
       "      <td>2022-04-01</td>\n",
       "      <td>W 14</td>\n",
       "      <td>Atq -458</td>\n",
       "      <td>Jessie Carrillo</td>\n",
       "      <td>Work From Office</td>\n",
       "      <td>April</td>\n",
       "      <td>Friday</td>\n",
       "      <td>weekday</td>\n",
       "      <td>WFO</td>\n",
       "    </tr>\n",
       "    <tr>\n",
       "      <th>1</th>\n",
       "      <td>2022-04-01</td>\n",
       "      <td>W 14</td>\n",
       "      <td>Atq -400</td>\n",
       "      <td>Chad Macias</td>\n",
       "      <td>Work From Office</td>\n",
       "      <td>April</td>\n",
       "      <td>Friday</td>\n",
       "      <td>weekday</td>\n",
       "      <td>WFO</td>\n",
       "    </tr>\n",
       "    <tr>\n",
       "      <th>2</th>\n",
       "      <td>2022-04-01</td>\n",
       "      <td>W 14</td>\n",
       "      <td>Atq -437</td>\n",
       "      <td>Dallas Weeks</td>\n",
       "      <td>Work From Office</td>\n",
       "      <td>April</td>\n",
       "      <td>Friday</td>\n",
       "      <td>weekday</td>\n",
       "      <td>WFO</td>\n",
       "    </tr>\n",
       "  </tbody>\n",
       "</table>\n",
       "</div>"
      ],
      "text/plain": [
       "        date weekno employee_id             name            status month_name  \\\n",
       "0 2022-04-01   W 14    Atq -458  Jessie Carrillo  Work From Office      April   \n",
       "1 2022-04-01   W 14    Atq -400      Chad Macias  Work From Office      April   \n",
       "2 2022-04-01   W 14    Atq -437     Dallas Weeks  Work From Office      April   \n",
       "\n",
       "  day_type day_category abbreviations  \n",
       "0   Friday      weekday           WFO  \n",
       "1   Friday      weekday           WFO  \n",
       "2   Friday      weekday           WFO  "
      ]
     },
     "execution_count": 72,
     "metadata": {},
     "output_type": "execute_result"
    }
   ],
   "source": [
    "df.head(3)"
   ]
  },
  {
   "cell_type": "code",
   "execution_count": 73,
   "id": "bf3a4144-4348-40d1-a103-a0d19edb31ea",
   "metadata": {},
   "outputs": [
    {
     "data": {
      "text/html": [
       "<div>\n",
       "<style scoped>\n",
       "    .dataframe tbody tr th:only-of-type {\n",
       "        vertical-align: middle;\n",
       "    }\n",
       "\n",
       "    .dataframe tbody tr th {\n",
       "        vertical-align: top;\n",
       "    }\n",
       "\n",
       "    .dataframe thead th {\n",
       "        text-align: right;\n",
       "    }\n",
       "</style>\n",
       "<table border=\"1\" class=\"dataframe\">\n",
       "  <thead>\n",
       "    <tr style=\"text-align: right;\">\n",
       "      <th></th>\n",
       "      <th>date</th>\n",
       "      <th>weekno</th>\n",
       "      <th>month_name</th>\n",
       "      <th>day_type</th>\n",
       "      <th>day_category</th>\n",
       "      <th>employee_id</th>\n",
       "      <th>name</th>\n",
       "      <th>status</th>\n",
       "      <th>abbreviations</th>\n",
       "    </tr>\n",
       "  </thead>\n",
       "  <tbody>\n",
       "    <tr>\n",
       "      <th>0</th>\n",
       "      <td>2022-04-01</td>\n",
       "      <td>W 14</td>\n",
       "      <td>April</td>\n",
       "      <td>Friday</td>\n",
       "      <td>weekday</td>\n",
       "      <td>Atq -458</td>\n",
       "      <td>Jessie Carrillo</td>\n",
       "      <td>Work From Office</td>\n",
       "      <td>WFO</td>\n",
       "    </tr>\n",
       "    <tr>\n",
       "      <th>1</th>\n",
       "      <td>2022-04-01</td>\n",
       "      <td>W 14</td>\n",
       "      <td>April</td>\n",
       "      <td>Friday</td>\n",
       "      <td>weekday</td>\n",
       "      <td>Atq -400</td>\n",
       "      <td>Chad Macias</td>\n",
       "      <td>Work From Office</td>\n",
       "      <td>WFO</td>\n",
       "    </tr>\n",
       "    <tr>\n",
       "      <th>2</th>\n",
       "      <td>2022-04-01</td>\n",
       "      <td>W 14</td>\n",
       "      <td>April</td>\n",
       "      <td>Friday</td>\n",
       "      <td>weekday</td>\n",
       "      <td>Atq -437</td>\n",
       "      <td>Dallas Weeks</td>\n",
       "      <td>Work From Office</td>\n",
       "      <td>WFO</td>\n",
       "    </tr>\n",
       "  </tbody>\n",
       "</table>\n",
       "</div>"
      ],
      "text/plain": [
       "        date weekno month_name day_type day_category employee_id  \\\n",
       "0 2022-04-01   W 14      April   Friday      weekday    Atq -458   \n",
       "1 2022-04-01   W 14      April   Friday      weekday    Atq -400   \n",
       "2 2022-04-01   W 14      April   Friday      weekday    Atq -437   \n",
       "\n",
       "              name            status abbreviations  \n",
       "0  Jessie Carrillo  Work From Office           WFO  \n",
       "1      Chad Macias  Work From Office           WFO  \n",
       "2     Dallas Weeks  Work From Office           WFO  "
      ]
     },
     "execution_count": 73,
     "metadata": {},
     "output_type": "execute_result"
    }
   ],
   "source": [
    "desired_order = ['date', 'weekno', 'month_name', 'day_type', 'day_category', 'employee_id', 'name', 'status', 'abbreviations']\n",
    "df = df[desired_order]\n",
    "df.head(3)"
   ]
  },
  {
   "cell_type": "code",
   "execution_count": null,
   "id": "ca03fcc1-7c98-4fcf-91b3-b35e9bf8f1de",
   "metadata": {},
   "outputs": [],
   "source": []
  },
  {
   "cell_type": "code",
   "execution_count": 74,
   "id": "a1374107-77f8-4ae7-ae05-2ef9fa2d3e42",
   "metadata": {},
   "outputs": [
    {
     "data": {
      "text/plain": [
       "99"
      ]
     },
     "execution_count": 74,
     "metadata": {},
     "output_type": "execute_result"
    }
   ],
   "source": [
    "total_distinct_names = df['name'].nunique()\n",
    "total_distinct_names\n"
   ]
  },
  {
   "cell_type": "code",
   "execution_count": 75,
   "id": "94fa75e4-0e34-4fe2-80c1-6ed8ec644eb0",
   "metadata": {},
   "outputs": [
    {
     "data": {
      "text/plain": [
       "7.39"
      ]
     },
     "execution_count": 75,
     "metadata": {},
     "output_type": "execute_result"
    }
   ],
   "source": [
    "df_may = df[df['month_name'] == 'May']\n",
    "\n",
    "# Count occurrences of WFH status\n",
    "wfh_count = df_may[df_may['status'] == 'Work From Home'].shape[0]\n",
    "\n",
    "# Calculate total records\n",
    "total_records = df_may.shape[0]\n",
    "\n",
    "# Calculate WFH percentage\n",
    "wfh_percentage = round(((wfh_count / total_records) * 100),2)\n",
    "wfh_percentage"
   ]
  },
  {
   "cell_type": "code",
   "execution_count": 76,
   "id": "3aa8b65e-7ceb-4860-82a1-93bb2e302826",
   "metadata": {},
   "outputs": [],
   "source": [
    "df['date'] = pd.to_datetime(df['date'], format='%Y-%m-%d')\n"
   ]
  },
  {
   "cell_type": "code",
   "execution_count": 77,
   "id": "7a38fce5-65c5-49a8-b76d-88c49f4bbf35",
   "metadata": {},
   "outputs": [],
   "source": [
    "df_june = df[df['date'].dt.month == 6]"
   ]
  },
  {
   "cell_type": "code",
   "execution_count": 81,
   "id": "ee9e1dd7-6ba2-46f3-b6d8-3a125163b844",
   "metadata": {},
   "outputs": [
    {
     "name": "stderr",
     "output_type": "stream",
     "text": [
      "C:\\Users\\ADMIN\\AppData\\Local\\Temp\\ipykernel_6524\\4160997203.py:1: SettingWithCopyWarning: \n",
      "A value is trying to be set on a copy of a slice from a DataFrame.\n",
      "Try using .loc[row_indexer,col_indexer] = value instead\n",
      "\n",
      "See the caveats in the documentation: https://pandas.pydata.org/pandas-docs/stable/user_guide/indexing.html#returning-a-view-versus-a-copy\n",
      "  df_june['Attendance Count'] = df_june.groupby('date')['employee_id'].nunique()\n"
     ]
    },
    {
     "data": {
      "text/html": [
       "<div>\n",
       "<style scoped>\n",
       "    .dataframe tbody tr th:only-of-type {\n",
       "        vertical-align: middle;\n",
       "    }\n",
       "\n",
       "    .dataframe tbody tr th {\n",
       "        vertical-align: top;\n",
       "    }\n",
       "\n",
       "    .dataframe thead th {\n",
       "        text-align: right;\n",
       "    }\n",
       "</style>\n",
       "<table border=\"1\" class=\"dataframe\">\n",
       "  <thead>\n",
       "    <tr style=\"text-align: right;\">\n",
       "      <th></th>\n",
       "      <th>date</th>\n",
       "      <th>weekno</th>\n",
       "      <th>month_name</th>\n",
       "      <th>day_type</th>\n",
       "      <th>day_category</th>\n",
       "      <th>employee_id</th>\n",
       "      <th>name</th>\n",
       "      <th>status</th>\n",
       "      <th>abbreviations</th>\n",
       "      <th>Attendance Count</th>\n",
       "    </tr>\n",
       "  </thead>\n",
       "  <tbody>\n",
       "    <tr>\n",
       "      <th>4639</th>\n",
       "      <td>2022-06-01</td>\n",
       "      <td>W 23</td>\n",
       "      <td>June</td>\n",
       "      <td>Wednesday</td>\n",
       "      <td>weekday</td>\n",
       "      <td>Atq -448</td>\n",
       "      <td>Athena Rios</td>\n",
       "      <td>Work From Office</td>\n",
       "      <td>WFO</td>\n",
       "      <td>NaN</td>\n",
       "    </tr>\n",
       "    <tr>\n",
       "      <th>4640</th>\n",
       "      <td>2022-06-01</td>\n",
       "      <td>W 23</td>\n",
       "      <td>June</td>\n",
       "      <td>Wednesday</td>\n",
       "      <td>weekday</td>\n",
       "      <td>Atq -472</td>\n",
       "      <td>Quincy Mendez</td>\n",
       "      <td>Work From Office</td>\n",
       "      <td>WFO</td>\n",
       "      <td>NaN</td>\n",
       "    </tr>\n",
       "    <tr>\n",
       "      <th>4641</th>\n",
       "      <td>2022-06-01</td>\n",
       "      <td>W 23</td>\n",
       "      <td>June</td>\n",
       "      <td>Wednesday</td>\n",
       "      <td>weekday</td>\n",
       "      <td>Atq -411</td>\n",
       "      <td>Samuel Murray</td>\n",
       "      <td>Work From Office</td>\n",
       "      <td>WFO</td>\n",
       "      <td>NaN</td>\n",
       "    </tr>\n",
       "    <tr>\n",
       "      <th>4642</th>\n",
       "      <td>2022-06-01</td>\n",
       "      <td>W 23</td>\n",
       "      <td>June</td>\n",
       "      <td>Wednesday</td>\n",
       "      <td>weekday</td>\n",
       "      <td>Atq -453</td>\n",
       "      <td>Nehemiah Diaz</td>\n",
       "      <td>Work From Office</td>\n",
       "      <td>WFO</td>\n",
       "      <td>NaN</td>\n",
       "    </tr>\n",
       "    <tr>\n",
       "      <th>4643</th>\n",
       "      <td>2022-06-01</td>\n",
       "      <td>W 23</td>\n",
       "      <td>June</td>\n",
       "      <td>Wednesday</td>\n",
       "      <td>weekday</td>\n",
       "      <td>Atq -376</td>\n",
       "      <td>Dominique Benjamin</td>\n",
       "      <td>Work From Office</td>\n",
       "      <td>WFO</td>\n",
       "      <td>NaN</td>\n",
       "    </tr>\n",
       "    <tr>\n",
       "      <th>...</th>\n",
       "      <td>...</td>\n",
       "      <td>...</td>\n",
       "      <td>...</td>\n",
       "      <td>...</td>\n",
       "      <td>...</td>\n",
       "      <td>...</td>\n",
       "      <td>...</td>\n",
       "      <td>...</td>\n",
       "      <td>...</td>\n",
       "      <td>...</td>\n",
       "    </tr>\n",
       "    <tr>\n",
       "      <th>6331</th>\n",
       "      <td>2022-06-30</td>\n",
       "      <td>W 24</td>\n",
       "      <td>June</td>\n",
       "      <td>Thursday</td>\n",
       "      <td>weekday</td>\n",
       "      <td>Atq -335</td>\n",
       "      <td>Tori Shannon</td>\n",
       "      <td>Work From Office</td>\n",
       "      <td>WFO</td>\n",
       "      <td>NaN</td>\n",
       "    </tr>\n",
       "    <tr>\n",
       "      <th>6332</th>\n",
       "      <td>2022-06-30</td>\n",
       "      <td>W 25</td>\n",
       "      <td>June</td>\n",
       "      <td>Thursday</td>\n",
       "      <td>weekday</td>\n",
       "      <td>Atq -437</td>\n",
       "      <td>Dallas Weeks</td>\n",
       "      <td>Work From Office</td>\n",
       "      <td>WFO</td>\n",
       "      <td>NaN</td>\n",
       "    </tr>\n",
       "    <tr>\n",
       "      <th>6333</th>\n",
       "      <td>2022-06-30</td>\n",
       "      <td>W 26</td>\n",
       "      <td>June</td>\n",
       "      <td>Thursday</td>\n",
       "      <td>weekday</td>\n",
       "      <td>Atq -373</td>\n",
       "      <td>Isiah Small</td>\n",
       "      <td>Weekly Off</td>\n",
       "      <td>WO</td>\n",
       "      <td>NaN</td>\n",
       "    </tr>\n",
       "    <tr>\n",
       "      <th>6334</th>\n",
       "      <td>2022-06-30</td>\n",
       "      <td>W 27</td>\n",
       "      <td>June</td>\n",
       "      <td>Thursday</td>\n",
       "      <td>weekday</td>\n",
       "      <td>Atq -350</td>\n",
       "      <td>Alexander Davenport</td>\n",
       "      <td>Work From Home</td>\n",
       "      <td>WFH</td>\n",
       "      <td>NaN</td>\n",
       "    </tr>\n",
       "    <tr>\n",
       "      <th>6335</th>\n",
       "      <td>2022-06-30</td>\n",
       "      <td>W 27</td>\n",
       "      <td>June</td>\n",
       "      <td>Thursday</td>\n",
       "      <td>weekday</td>\n",
       "      <td>Atq -405</td>\n",
       "      <td>Chris Frye</td>\n",
       "      <td>Work From Home</td>\n",
       "      <td>WFH</td>\n",
       "      <td>NaN</td>\n",
       "    </tr>\n",
       "  </tbody>\n",
       "</table>\n",
       "<p>1697 rows × 10 columns</p>\n",
       "</div>"
      ],
      "text/plain": [
       "           date weekno month_name   day_type day_category employee_id  \\\n",
       "4639 2022-06-01   W 23       June  Wednesday      weekday    Atq -448   \n",
       "4640 2022-06-01   W 23       June  Wednesday      weekday    Atq -472   \n",
       "4641 2022-06-01   W 23       June  Wednesday      weekday    Atq -411   \n",
       "4642 2022-06-01   W 23       June  Wednesday      weekday    Atq -453   \n",
       "4643 2022-06-01   W 23       June  Wednesday      weekday    Atq -376   \n",
       "...         ...    ...        ...        ...          ...         ...   \n",
       "6331 2022-06-30   W 24       June   Thursday      weekday    Atq -335   \n",
       "6332 2022-06-30   W 25       June   Thursday      weekday    Atq -437   \n",
       "6333 2022-06-30   W 26       June   Thursday      weekday    Atq -373   \n",
       "6334 2022-06-30   W 27       June   Thursday      weekday    Atq -350   \n",
       "6335 2022-06-30   W 27       June   Thursday      weekday    Atq -405   \n",
       "\n",
       "                     name            status abbreviations  Attendance Count  \n",
       "4639          Athena Rios  Work From Office           WFO               NaN  \n",
       "4640        Quincy Mendez  Work From Office           WFO               NaN  \n",
       "4641        Samuel Murray  Work From Office           WFO               NaN  \n",
       "4642        Nehemiah Diaz  Work From Office           WFO               NaN  \n",
       "4643   Dominique Benjamin  Work From Office           WFO               NaN  \n",
       "...                   ...               ...           ...               ...  \n",
       "6331         Tori Shannon  Work From Office           WFO               NaN  \n",
       "6332         Dallas Weeks  Work From Office           WFO               NaN  \n",
       "6333          Isiah Small        Weekly Off            WO               NaN  \n",
       "6334  Alexander Davenport    Work From Home           WFH               NaN  \n",
       "6335           Chris Frye    Work From Home           WFH               NaN  \n",
       "\n",
       "[1697 rows x 10 columns]"
      ]
     },
     "execution_count": 81,
     "metadata": {},
     "output_type": "execute_result"
    }
   ],
   "source": [
    "df_june['Attendance Count'] = df_june.groupby('date')['employee_id'].nunique()\n",
    "df_june"
   ]
  },
  {
   "cell_type": "code",
   "execution_count": 87,
   "id": "2d3090e6-a382-4247-b2ed-fddd36ae70cb",
   "metadata": {},
   "outputs": [
    {
     "name": "stderr",
     "output_type": "stream",
     "text": [
      "C:\\Users\\ADMIN\\AppData\\Local\\Temp\\ipykernel_6524\\3200977415.py:1: SettingWithCopyWarning: \n",
      "A value is trying to be set on a copy of a slice from a DataFrame.\n",
      "Try using .loc[row_indexer,col_indexer] = value instead\n",
      "\n",
      "See the caveats in the documentation: https://pandas.pydata.org/pandas-docs/stable/user_guide/indexing.html#returning-a-view-versus-a-copy\n",
      "  df_june['Attendance Count'] = df_june.groupby('date')['employee_id'].nunique()\n"
     ]
    }
   ],
   "source": [
    "df_june['Attendance Count'] = df_june.groupby('date')['employee_id'].nunique()"
   ]
  },
  {
   "cell_type": "code",
   "execution_count": 94,
   "id": "12161105-7f3b-4760-b770-56185a887c1d",
   "metadata": {},
   "outputs": [
    {
     "name": "stderr",
     "output_type": "stream",
     "text": [
      "C:\\Users\\ADMIN\\AppData\\Local\\Temp\\ipykernel_6524\\2677937506.py:11: SettingWithCopyWarning: \n",
      "A value is trying to be set on a copy of a slice from a DataFrame.\n",
      "Try using .loc[row_indexer,col_indexer] = value instead\n",
      "\n",
      "See the caveats in the documentation: https://pandas.pydata.org/pandas-docs/stable/user_guide/indexing.html#returning-a-view-versus-a-copy\n",
      "  df_june['Attendance Count'] = df_june.groupby('date')['employee_id'].nunique()\n",
      "C:\\Users\\ADMIN\\AppData\\Local\\Temp\\ipykernel_6524\\2677937506.py:16: SettingWithCopyWarning: \n",
      "A value is trying to be set on a copy of a slice from a DataFrame.\n",
      "Try using .loc[row_indexer,col_indexer] = value instead\n",
      "\n",
      "See the caveats in the documentation: https://pandas.pydata.org/pandas-docs/stable/user_guide/indexing.html#returning-a-view-versus-a-copy\n",
      "  df_june['Attendance Percentage'] = (df_june['Attendance Count'] / df_june['Attendance Count'].sum()) * 100\n",
      "C:\\Users\\ADMIN\\AppData\\Local\\Temp\\ipykernel_6524\\2677937506.py:17: SettingWithCopyWarning: \n",
      "A value is trying to be set on a copy of a slice from a DataFrame.\n",
      "Try using .loc[row_indexer,col_indexer] = value instead\n",
      "\n",
      "See the caveats in the documentation: https://pandas.pydata.org/pandas-docs/stable/user_guide/indexing.html#returning-a-view-versus-a-copy\n",
      "  df_june['Attendance Count'] = df_june['Attendance Count'].fillna(1)\n"
     ]
    },
    {
     "data": {
      "text/plain": [
       "nan"
      ]
     },
     "execution_count": 94,
     "metadata": {},
     "output_type": "execute_result"
    }
   ],
   "source": [
    "import pandas as pd\n",
    "\n",
    "# Assuming your data is in a DataFrame named 'df'\n",
    "# ... (load your data here)\n",
    "\n",
    "# Convert 'date' to datetime if not already\n",
    "df['date'] = pd.to_datetime(df['date'], errors='coerce')\n",
    "\n",
    "# Filter for June data\n",
    "df_june = df[df['date'].dt.month == 6]\n",
    "df_june['Attendance Count'] = df_june.groupby('date')['employee_id'].nunique()\n",
    "\n",
    "\n",
    "\n",
    "# Calculate attendance percentage for each day (assuming 'Attendance Count' exists)\n",
    "df_june['Attendance Percentage'] = (df_june['Attendance Count'] / df_june['Attendance Count'].sum()) * 100\n",
    "df_june['Attendance Count'] = df_june['Attendance Count'].fillna(1)\n",
    "\n",
    "# Group by day of the week and calculate average attendance percentage\n",
    "df_grouped = df_june.groupby(df_june['date'].dt.day_name())['Attendance Percentage'].mean()\n",
    "\n",
    "# Find the day with the highest percentage\n",
    "highest_attendance_day = df_grouped.idxmax()\n",
    "\n",
    "highest_attendance_day"
   ]
  },
  {
   "cell_type": "code",
   "execution_count": null,
   "id": "1b43f1c2-bf57-45f2-82ac-bf8604fd9e84",
   "metadata": {},
   "outputs": [],
   "source": []
  },
  {
   "cell_type": "code",
   "execution_count": null,
   "id": "e7a1c9e7-3550-426d-a9b4-a91b2e8e6632",
   "metadata": {},
   "outputs": [],
   "source": []
  }
 ],
 "metadata": {
  "kernelspec": {
   "display_name": "Python 3 (ipykernel)",
   "language": "python",
   "name": "python3"
  },
  "language_info": {
   "codemirror_mode": {
    "name": "ipython",
    "version": 3
   },
   "file_extension": ".py",
   "mimetype": "text/x-python",
   "name": "python",
   "nbconvert_exporter": "python",
   "pygments_lexer": "ipython3",
   "version": "3.8.10"
  }
 },
 "nbformat": 4,
 "nbformat_minor": 5
}
